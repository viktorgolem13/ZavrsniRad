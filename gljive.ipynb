{
 "cells": [
  {
   "cell_type": "code",
   "execution_count": 1,
   "metadata": {
    "collapsed": false
   },
   "outputs": [],
   "source": [
    "import pandas as pd\n",
    "import matplotlib.pyplot as plt\n",
    "import numpy.random as nr\n",
    "\n",
    "from sklearn import tree\n",
    "from sklearn import linear_model\n",
    "from sklearn import svm\n",
    "from sklearn import ensemble\n",
    "\n",
    "\n",
    "def dataTransformation(df):\n",
    "    df['class'] = df['class'].astype(\"category\").cat.codes\n",
    "    df['stalk-shape'] = df['stalk-shape'].astype(\"category\").cat.codes\n",
    "    df['stalk-root'] = df['stalk-root'].astype(\"category\").cat.codes\n",
    "    df['cap-shape'] = df['cap-shape'].astype(\"category\").cat.codes\n",
    "    df['cap-surface'] = df['cap-surface'].astype(\"category\").cat.codes\n",
    "    df['odor'] = df['odor'].astype(\"category\").cat.codes\n",
    "    df['bruises'] = df['bruises'].astype(\"category\").cat.codes\n",
    "    df['gill-attachment'] = df['gill-attachment'].astype(\"category\").cat.codes\n",
    "    df['gill-spacing'] = df['gill-spacing'].astype(\"category\").cat.codes\n",
    "    df['gill-size'] = df['gill-size'].astype(\"category\").cat.codes\n",
    "    df['stalk-surface-below-ring'] = df['stalk-surface-below-ring'].astype(\"category\").cat.codes\n",
    "    df['stalk-color-above-ring'] = df['stalk-color-above-ring'].astype(\"category\").cat.codes\n",
    "    df['stalk-color-below-ring'] = df['stalk-color-below-ring'].astype(\"category\").cat.codes\n",
    "    df['gill-size'] = df['gill-size'].astype(\"category\").cat.codes\n",
    "    df['ring-number'] = df['ring-number'].astype(\"category\").cat.codes\n",
    "    df['population'] = df['population'].astype(\"category\").cat.codes\n",
    "    df['habitat'] = df['habitat'].astype(\"category\").cat.codes\n",
    "    df['ring-type'] = df['ring-type'].astype(\"category\").cat.codes\n",
    "    df['spore-print-color'] = df['spore-print-color'].astype(\"category\").cat.codes\n",
    "    df['veil-type'] = df['veil-type'].astype(\"category\").cat.codes\n",
    "    df['gill-color'] = df['gill-color'].astype(\"category\").cat.codes\n",
    "    df['cap-color'] = df['cap-color'].astype(\"category\").cat.codes\n",
    "    df['veil-color'] = df['veil-color'].astype(\"category\").cat.codes\n",
    "\n",
    "    return df\n",
    "\n",
    "\n",
    "\n",
    "def classificationAlgorithm(df, dfTest, features, nFeatures, targetedClass, classifier):\n",
    "    \n",
    "    nRows = df.shape[0]\n",
    "    nRowsTest = dfTest.shape[0]\n",
    "    \n",
    "    X = df[features].as_matrix().reshape(nRows, nFeatures)\n",
    "    XTest = dfTest[features].as_matrix().reshape(nRowsTest, nFeatures)\n",
    "    \n",
    "    Y = df[targetedClass].as_matrix().ravel()\n",
    "    \n",
    "    trainedClassifier = classifier.fit(X, Y)\n",
    "    \n",
    "    dfTest.predicted = trainedClassifier.predict(XTest)\n",
    "    \n",
    "    return dfTest\n",
    "\n",
    "\n",
    "def classificationResults(df, targetedClass, singleFeature):\n",
    "    \n",
    "    truePos = df[((df.predicted == 0) & (df[targetedClass] == df.predicted))]\n",
    "    falsePos = df[((df.predicted == 0) & (df[targetedClass] != df.predicted))]\n",
    "    trueNeg = df[( (df.predicted != 0) & (df[targetedClass] != 0))]\n",
    "    falseNeg = df[((df.predicted != 0) & (df[targetedClass] == 0))]\n",
    "\n",
    "    print('The number of true positives: ', truePos[singleFeature].count())\n",
    "    print('The number of false positives: ', falsePos[singleFeature].count())\n",
    "    print('The number of true negatives: ', trueNeg[singleFeature].count())\n",
    "    print('The number of false negatives: ', falseNeg[singleFeature].count())\n",
    "    \n",
    "    \n",
    "    correctlyClassified = (truePos[singleFeature].count() + trueNeg[singleFeature].count())/df[singleFeature].count() \n",
    "    \n",
    "    print(\"Correctly Classified: \", correctlyClassified)\n",
    "    print(\"Precision: \", truePos[singleFeature].count() / \n",
    "                              (truePos[singleFeature].count() + falseNeg[singleFeature].count()))\n",
    "    \n",
    "    print(\"Recall: \", truePos[singleFeature].count()/\n",
    "                           (truePos[singleFeature].count() + falsePos[singleFeature].count()))\n",
    "\n",
    "    \n",
    "def classificationScore(df, targetedClass, singleFeature):\n",
    "    \n",
    "    trueNeg = df[( (df.predicted != 0) & (df[targetedClass] != 0))]\n",
    "    falseNeg = df[((df.predicted != 0) & (df[targetedClass] == 0))]\n",
    "    truePos = df[((df.predicted == 0) & (df[targetedClass] == df.predicted))]\n",
    "    falsePos = df[((df.predicted == 0) & (df[targetedClass] != df.predicted))]\n",
    "\n",
    "    correctlyClassified = ( truePos[singleFeature].count() + trueNeg[singleFeature].count() ) / df[singleFeature].count()     \n",
    "    \n",
    "    return correctlyClassified"
   ]
  },
  {
   "cell_type": "code",
   "execution_count": 2,
   "metadata": {
    "collapsed": false
   },
   "outputs": [
    {
     "name": "stdout",
     "output_type": "stream",
     "text": [
      "  class cap-shape cap-surface cap-color bruises odor gill-attachment  \\\n",
      "0     p         x           s         n       t    p               f   \n",
      "1     e         x           s         y       t    a               f   \n",
      "2     e         b           s         w       t    l               f   \n",
      "3     p         x           y         w       t    p               f   \n",
      "4     e         x           s         g       f    n               f   \n",
      "\n",
      "  gill-spacing gill-size gill-color   ...   stalk-surface-below-ring  \\\n",
      "0            c         n          k   ...                          s   \n",
      "1            c         b          k   ...                          s   \n",
      "2            c         b          n   ...                          s   \n",
      "3            c         n          n   ...                          s   \n",
      "4            w         b          k   ...                          s   \n",
      "\n",
      "  stalk-color-above-ring stalk-color-below-ring veil-type veil-color  \\\n",
      "0                      w                      w         p          w   \n",
      "1                      w                      w         p          w   \n",
      "2                      w                      w         p          w   \n",
      "3                      w                      w         p          w   \n",
      "4                      w                      w         p          w   \n",
      "\n",
      "  ring-number ring-type spore-print-color population habitat  \n",
      "0           o         p                 k          s       u  \n",
      "1           o         p                 n          n       g  \n",
      "2           o         p                 n          n       m  \n",
      "3           o         p                 k          s       u  \n",
      "4           o         e                 n          a       g  \n",
      "\n",
      "[5 rows x 23 columns]\n"
     ]
    }
   ],
   "source": [
    "df = pd.read_csv('C:\\\\Users\\\\viktor\\\\Downloads\\\\mushroom-classification\\\\mushrooms.csv')\n",
    "print(df.head())"
   ]
  },
  {
   "cell_type": "code",
   "execution_count": 3,
   "metadata": {
    "collapsed": false,
    "scrolled": true
   },
   "outputs": [
    {
     "name": "stdout",
     "output_type": "stream",
     "text": [
      "   class  cap-shape  cap-surface  cap-color  bruises  odor  gill-attachment  \\\n",
      "0      1          5            2          4        1     6                1   \n",
      "1      0          5            2          9        1     0                1   \n",
      "2      0          0            2          8        1     3                1   \n",
      "3      1          5            3          8        1     6                1   \n",
      "4      0          5            2          3        0     5                1   \n",
      "\n",
      "   gill-spacing  gill-size  gill-color   ...     stalk-surface-below-ring  \\\n",
      "0             0          1           4   ...                            2   \n",
      "1             0          0           4   ...                            2   \n",
      "2             0          0           5   ...                            2   \n",
      "3             0          1           5   ...                            2   \n",
      "4             1          0           4   ...                            2   \n",
      "\n",
      "   stalk-color-above-ring stalk-color-below-ring  veil-type  veil-color  \\\n",
      "0                       7                      7          0           2   \n",
      "1                       7                      7          0           2   \n",
      "2                       7                      7          0           2   \n",
      "3                       7                      7          0           2   \n",
      "4                       7                      7          0           2   \n",
      "\n",
      "   ring-number  ring-type  spore-print-color  population  habitat  \n",
      "0            1          4                  2           3        5  \n",
      "1            1          4                  3           2        1  \n",
      "2            1          4                  3           2        3  \n",
      "3            1          4                  2           3        5  \n",
      "4            1          0                  3           0        1  \n",
      "\n",
      "[5 rows x 23 columns]\n"
     ]
    }
   ],
   "source": [
    "df = dataTransformation(df)\n",
    "print(df.head())"
   ]
  },
  {
   "cell_type": "code",
   "execution_count": 4,
   "metadata": {
    "collapsed": false
   },
   "outputs": [
    {
     "data": {
      "image/png": "[encoded data removed]",
      "text/plain": [
       "<matplotlib.figure.Figure at 0x1e9dc4e1a90>"
      ]
     },
     "metadata": {},
     "output_type": "display_data"
    }
   ],
   "source": [
    "fig = plt.figure(figsize = (12, 6))\n",
    "\n",
    "ax = fig.add_subplot(121)\n",
    "ax.set_title(\"no bruises\")\n",
    "df[(df['class'] == 0) & (df['bruises'] == 0)].plot(kind = 'scatter', x = 'cap-color', y = 'gill-color', ax = ax, color = 'Blue', alpha = 0.05)\n",
    "df[(df['class'] != 0) & (df['bruises'] == 0)].plot(kind = 'scatter', x = 'cap-color', y = 'gill-color', ax = ax, color = 'Red', alpha = 0.05)\n",
    "\n",
    "ax = fig.add_subplot(122)\n",
    "ax.set_title(\"bruises\")\n",
    "df[(df['class'] == 0)& (df['bruises'] != 0)].plot(kind = 'scatter', x = 'cap-color', y = 'gill-color', ax = ax, color = 'Blue', alpha = 0.05)\n",
    "df[(df['class'] != 0) & (df['bruises'] != 0)] .plot(kind = 'scatter', x = 'cap-color', y = 'gill-color', ax = ax, color = 'Red', alpha = 0.05)\n",
    "\n",
    "plt.show()"
   ]
  },
  {
   "cell_type": "code",
   "execution_count": 5,
   "metadata": {
    "collapsed": true
   },
   "outputs": [],
   "source": [
    "msk = nr.rand(len(df)) < 0.8\n",
    "dfTrain = df[msk]\n",
    "dfTest = df[~msk]\n"
   ]
  },
  {
   "cell_type": "code",
   "execution_count": 6,
   "metadata": {
    "collapsed": false
   },
   "outputs": [
    {
     "name": "stdout",
     "output_type": "stream",
     "text": [
      "The number of true positives:  792\n",
      "The number of false positives:  69\n",
      "The number of true negatives:  673\n",
      "The number of false negatives:  50\n",
      "Correctly Classified:  0.924873737374\n",
      "Precision:  0.940617577197\n",
      "Recall:  0.919860627178\n"
     ]
    }
   ],
   "source": [
    "nFeaturesLogR = 16\n",
    "featuresLogR = ['stalk-shape', 'bruises', 'gill-size' , 'stalk-color-above-ring', 'stalk-root',\n",
    "                'cap-shape','cap-surface', 'odor', 'gill-color', 'veil-type', 'spore-print-color', \n",
    "                'ring-type', 'cap-color', 'veil-color', 'habitat', 'population']\n",
    "\n",
    "classifier = linear_model.LogisticRegression()\n",
    "dfTest2 = classificationAlgorithm(dfTrain, dfTest, featuresLogR, nFeaturesLogR, 'class', classifier)\n",
    "\n",
    "classificationResults(dfTest, 'class', 'odor')"
   ]
  },
  {
   "cell_type": "code",
   "execution_count": 7,
   "metadata": {
    "collapsed": false
   },
   "outputs": [
    {
     "name": "stdout",
     "output_type": "stream",
     "text": [
      "0.925993883792\n",
      "4.1000000000000005\n"
     ]
    }
   ],
   "source": [
    "from sklearn.model_selection import train_test_split\n",
    "\n",
    "dfTrain2, dfValidation = train_test_split(dfTrain, train_size = 0.25)\n",
    "\n",
    "bestScore = 0\n",
    "bestCParam = -1\n",
    "\n",
    "for i in range(1,100):\n",
    "        classifier = linear_model.LogisticRegression(C = 0.1*i)\n",
    "        dfValidation = classificationAlgorithm(dfTrain, dfValidation, featuresLogR, nFeaturesLogR, 'class', classifier)\n",
    "        score = classificationScore(dfValidation, 'class', 'odor')\n",
    "        if score > bestScore:\n",
    "            bestScore = scor \n",
    "            bestCParam = 0.1 * i\n",
    "\n",
    "print(bestScore)\n",
    "print(bestCParam)"
   ]
  },
  {
   "cell_type": "code",
   "execution_count": 8,
   "metadata": {
    "collapsed": false
   },
   "outputs": [
    {
     "name": "stdout",
     "output_type": "stream",
     "text": [
      "The number of true positives:  792\n",
      "The number of false positives:  65\n",
      "The number of true negatives:  677\n",
      "The number of false negatives:  50\n",
      "Correctly Classified:  0.927398989899\n",
      "Precision:  0.940617577197\n",
      "Recall:  0.924154025671\n"
     ]
    }
   ],
   "source": [
    "classifier = linear_model.LogisticRegression(C = bestCParam)\n",
    "dfTest2 = classificationAlgorithm(dfTrain, dfTest, featuresLogR, nFeaturesLogR, 'class', classifier)\n",
    "\n",
    "classificationResults(dfTest, 'class', 'odor')"
   ]
  },
  {
   "cell_type": "code",
   "execution_count": 9,
   "metadata": {
    "collapsed": false
   },
   "outputs": [
    {
     "name": "stdout",
     "output_type": "stream",
     "text": [
      "The number of true positives:  842\n",
      "The number of false positives:  0\n",
      "The number of true negatives:  742\n",
      "The number of false negatives:  0\n",
      "Correctly Classified:  1.0\n",
      "Precision:  1.0\n",
      "Recall:  1.0\n"
     ]
    }
   ],
   "source": [
    "nFeatures = 11\n",
    "features = ['stalk-shape', 'stalk-root', 'cap-shape', 'cap-surface', 'odor', 'gill-color', 'veil-type', 'spore-print-color', 'ring-type', 'habitat', 'population']\n",
    "\n",
    "classifier = svm.SVC()\n",
    "dfTest2 = classificationAlgorithm(dfTrain, dfTest, features, nFeatures, 'class', classifier)\n",
    "classificationResults(dfTest, 'class', 'odor')"
   ]
  },
  {
   "cell_type": "code",
   "execution_count": 10,
   "metadata": {
    "collapsed": false
   },
   "outputs": [
    {
     "name": "stdout",
     "output_type": "stream",
     "text": [
      "The number of true positives:  842\n",
      "The number of false positives:  0\n",
      "The number of true negatives:  742\n",
      "The number of false negatives:  0\n",
      "Correctly Classified:  1.0\n",
      "Precision:  1.0\n",
      "Recall:  1.0\n"
     ]
    }
   ],
   "source": [
    "classifier = tree.DecisionTreeClassifier()\n",
    "dfTest2 = classificationAlgorithm(dfTrain, dfTest, features, nFeatures, 'class', classifier)\n",
    "classificationResults(dfTest, 'class', 'odor')"
   ]
  },
  {
   "cell_type": "code",
   "execution_count": 11,
   "metadata": {
    "collapsed": false
   },
   "outputs": [
    {
     "name": "stdout",
     "output_type": "stream",
     "text": [
      "The number of true positives:  842\n",
      "The number of false positives:  0\n",
      "The number of true negatives:  742\n",
      "The number of false negatives:  0\n",
      "Correctly Classified:  1.0\n",
      "Precision:  1.0\n",
      "Recall:  1.0\n"
     ]
    }
   ],
   "source": [
    "classifier = ensemble.RandomForestClassifier()\n",
    "dfTest2 = classificationAlgorithm(dfTrain, dfTest, features, nFeatures, 'class', classifier)\n",
    "classificationResults(dfTest, 'class', 'odor')"
   ]
  },
  {
   "cell_type": "code",
   "execution_count": null,
   "metadata": {
    "collapsed": true
   },
   "outputs": [],
   "source": []
  }
 ],
 "metadata": {
  "anaconda-cloud": {},
  "kernelspec": {
   "display_name": "Python 3",
   "language": "python",
   "name": "python3"
  },
  "language_info": {
   "codemirror_mode": {
    "name": "ipython",
    "version": 3
   },
   "file_extension": ".py",
   "mimetype": "text/x-python",
   "name": "python",
   "nbconvert_exporter": "python",
   "pygments_lexer": "ipython3",
   "version": "3.6.0"
  }
 },
 "nbformat": 4,
 "nbformat_minor": 1
}
